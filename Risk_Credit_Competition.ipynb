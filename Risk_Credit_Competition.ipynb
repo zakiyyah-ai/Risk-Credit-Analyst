{
  "nbformat": 4,
  "nbformat_minor": 0,
  "metadata": {
    "colab": {
      "name": "Risk Credit Competition.ipynb",
      "provenance": [],
      "authorship_tag": "ABX9TyPlrkVbLYCrr5CwO/OkS+aa",
      "include_colab_link": true
    },
    "kernelspec": {
      "name": "python3",
      "display_name": "Python 3"
    },
    "language_info": {
      "name": "python"
    }
  },
  "cells": [
    {
      "cell_type": "markdown",
      "metadata": {
        "id": "view-in-github",
        "colab_type": "text"
      },
      "source": [
        "<a href=\"https://colab.research.google.com/github/zakiyyah-ai/Risk-Credit-Analyst/blob/main/Risk_Credit_Competition.ipynb\" target=\"_parent\"><img src=\"https://colab.research.google.com/assets/colab-badge.svg\" alt=\"Open In Colab\"/></a>"
      ]
    },
    {
      "cell_type": "code",
      "metadata": {
        "id": "A35KLcdvMAxg"
      },
      "source": [
        "import pandas as pd\n",
        "import matplotlib.pyplot as plt\n",
        "import seaborn as sns\n",
        "import numpy as np\n",
        "from sklearn.model_selection import train_test_split\n",
        "from sklearn.metrics import classification_report\n",
        "from sklearn import metrics"
      ],
      "execution_count": 1,
      "outputs": []
    },
    {
      "cell_type": "code",
      "metadata": {
        "colab": {
          "base_uri": "https://localhost:8080/",
          "height": 206
        },
        "id": "UJUIeipiMePG",
        "outputId": "ab09630d-4a27-4759-ce4f-443d0daefe87"
      },
      "source": [
        "df_train = pd.read_csv('/content/train.csv')\n",
        "df_test = pd.read_csv('/content/test.csv')\n",
        "df_train.head()"
      ],
      "execution_count": 2,
      "outputs": [
        {
          "output_type": "execute_result",
          "data": {
            "text/html": [
              "<div>\n",
              "<style scoped>\n",
              "    .dataframe tbody tr th:only-of-type {\n",
              "        vertical-align: middle;\n",
              "    }\n",
              "\n",
              "    .dataframe tbody tr th {\n",
              "        vertical-align: top;\n",
              "    }\n",
              "\n",
              "    .dataframe thead th {\n",
              "        text-align: right;\n",
              "    }\n",
              "</style>\n",
              "<table border=\"1\" class=\"dataframe\">\n",
              "  <thead>\n",
              "    <tr style=\"text-align: right;\">\n",
              "      <th></th>\n",
              "      <th>customer_id</th>\n",
              "      <th>customer_bod</th>\n",
              "      <th>gender</th>\n",
              "      <th>phone_flag</th>\n",
              "      <th>student</th>\n",
              "      <th>employment</th>\n",
              "      <th>credit_card</th>\n",
              "      <th>balance</th>\n",
              "      <th>income</th>\n",
              "      <th>tenure</th>\n",
              "      <th>default</th>\n",
              "    </tr>\n",
              "  </thead>\n",
              "  <tbody>\n",
              "    <tr>\n",
              "      <th>0</th>\n",
              "      <td>8300</td>\n",
              "      <td>1993-08-17</td>\n",
              "      <td>Female</td>\n",
              "      <td>1.0</td>\n",
              "      <td>No</td>\n",
              "      <td>Self Employed</td>\n",
              "      <td>1.0</td>\n",
              "      <td>87104.12</td>\n",
              "      <td>5015120.75</td>\n",
              "      <td>4yrs 4mon</td>\n",
              "      <td>0</td>\n",
              "    </tr>\n",
              "    <tr>\n",
              "      <th>1</th>\n",
              "      <td>672</td>\n",
              "      <td>2007-12-17</td>\n",
              "      <td>Female</td>\n",
              "      <td>1.0</td>\n",
              "      <td>Yes</td>\n",
              "      <td>NaN</td>\n",
              "      <td>0.0</td>\n",
              "      <td>89236.34</td>\n",
              "      <td>2266076.58</td>\n",
              "      <td>4yrs 1mon</td>\n",
              "      <td>0</td>\n",
              "    </tr>\n",
              "    <tr>\n",
              "      <th>2</th>\n",
              "      <td>5670</td>\n",
              "      <td>2000-02-05</td>\n",
              "      <td>Female</td>\n",
              "      <td>1.0</td>\n",
              "      <td>Yes</td>\n",
              "      <td>NaN</td>\n",
              "      <td>0.0</td>\n",
              "      <td>171553.12</td>\n",
              "      <td>1779347.34</td>\n",
              "      <td>0yrs 9mon</td>\n",
              "      <td>0</td>\n",
              "    </tr>\n",
              "    <tr>\n",
              "      <th>3</th>\n",
              "      <td>2975</td>\n",
              "      <td>1999-11-16</td>\n",
              "      <td>Female</td>\n",
              "      <td>1.0</td>\n",
              "      <td>Yes</td>\n",
              "      <td>NaN</td>\n",
              "      <td>0.0</td>\n",
              "      <td>85979.04</td>\n",
              "      <td>2014246.24</td>\n",
              "      <td>1yrs 8mon</td>\n",
              "      <td>0</td>\n",
              "    </tr>\n",
              "    <tr>\n",
              "      <th>4</th>\n",
              "      <td>3883</td>\n",
              "      <td>1977-08-18</td>\n",
              "      <td>Male</td>\n",
              "      <td>1.0</td>\n",
              "      <td>No</td>\n",
              "      <td>Salaried</td>\n",
              "      <td>0.0</td>\n",
              "      <td>48874.77</td>\n",
              "      <td>5445148.31</td>\n",
              "      <td>0yrs 10mon</td>\n",
              "      <td>0</td>\n",
              "    </tr>\n",
              "  </tbody>\n",
              "</table>\n",
              "</div>"
            ],
            "text/plain": [
              "   customer_id customer_bod  gender  ...      income      tenure default\n",
              "0         8300   1993-08-17  Female  ...  5015120.75   4yrs 4mon       0\n",
              "1          672   2007-12-17  Female  ...  2266076.58   4yrs 1mon       0\n",
              "2         5670   2000-02-05  Female  ...  1779347.34   0yrs 9mon       0\n",
              "3         2975   1999-11-16  Female  ...  2014246.24   1yrs 8mon       0\n",
              "4         3883   1977-08-18    Male  ...  5445148.31  0yrs 10mon       0\n",
              "\n",
              "[5 rows x 11 columns]"
            ]
          },
          "metadata": {},
          "execution_count": 2
        }
      ]
    },
    {
      "cell_type": "markdown",
      "metadata": {
        "id": "rBCBs1LhNPLj"
      },
      "source": [
        "Data exploratory"
      ]
    },
    {
      "cell_type": "code",
      "metadata": {
        "colab": {
          "base_uri": "https://localhost:8080/"
        },
        "id": "7G-zOtsIMoRD",
        "outputId": "92ca788e-9f2e-434d-8cee-85e43545cdb0"
      },
      "source": [
        "df_train.shape"
      ],
      "execution_count": 3,
      "outputs": [
        {
          "output_type": "execute_result",
          "data": {
            "text/plain": [
              "(3693, 11)"
            ]
          },
          "metadata": {},
          "execution_count": 3
        }
      ]
    },
    {
      "cell_type": "code",
      "metadata": {
        "colab": {
          "base_uri": "https://localhost:8080/"
        },
        "id": "ZcSILDQ3MyaT",
        "outputId": "aaa640f5-1e13-43ef-f389-6f110f0f5398"
      },
      "source": [
        "print(df_train.info())\n",
        "df_train.nunique()"
      ],
      "execution_count": 4,
      "outputs": [
        {
          "output_type": "stream",
          "name": "stdout",
          "text": [
            "<class 'pandas.core.frame.DataFrame'>\n",
            "RangeIndex: 3693 entries, 0 to 3692\n",
            "Data columns (total 11 columns):\n",
            " #   Column        Non-Null Count  Dtype  \n",
            "---  ------        --------------  -----  \n",
            " 0   customer_id   3693 non-null   int64  \n",
            " 1   customer_bod  3693 non-null   object \n",
            " 2   gender        3385 non-null   object \n",
            " 3   phone_flag    3693 non-null   float64\n",
            " 4   student       3693 non-null   object \n",
            " 5   employment    2701 non-null   object \n",
            " 6   credit_card   3682 non-null   float64\n",
            " 7   balance       3693 non-null   float64\n",
            " 8   income        3693 non-null   float64\n",
            " 9   tenure        3693 non-null   object \n",
            " 10  default       3693 non-null   int64  \n",
            "dtypes: float64(4), int64(2), object(5)\n",
            "memory usage: 317.5+ KB\n",
            "None\n"
          ]
        },
        {
          "output_type": "execute_result",
          "data": {
            "text/plain": [
              "customer_id     3693\n",
              "customer_bod    2940\n",
              "gender             2\n",
              "phone_flag         2\n",
              "student            2\n",
              "employment         2\n",
              "credit_card        2\n",
              "balance         3509\n",
              "income          3693\n",
              "tenure            70\n",
              "default            2\n",
              "dtype: int64"
            ]
          },
          "metadata": {},
          "execution_count": 4
        }
      ]
    },
    {
      "cell_type": "code",
      "metadata": {
        "colab": {
          "base_uri": "https://localhost:8080/"
        },
        "id": "CerjMjc0q87E",
        "outputId": "be1444a5-7f01-45d9-ca5d-a8caf11a4ba1"
      },
      "source": [
        "df_train.isnull().sum()"
      ],
      "execution_count": 5,
      "outputs": [
        {
          "output_type": "execute_result",
          "data": {
            "text/plain": [
              "customer_id       0\n",
              "customer_bod      0\n",
              "gender          308\n",
              "phone_flag        0\n",
              "student           0\n",
              "employment      992\n",
              "credit_card      11\n",
              "balance           0\n",
              "income            0\n",
              "tenure            0\n",
              "default           0\n",
              "dtype: int64"
            ]
          },
          "metadata": {},
          "execution_count": 5
        }
      ]
    },
    {
      "cell_type": "code",
      "metadata": {
        "colab": {
          "base_uri": "https://localhost:8080/"
        },
        "id": "QK1Yb3e9PCrU",
        "outputId": "0ce5eb93-bc7c-486a-89bd-983270ea024a"
      },
      "source": [
        "#Replace Missing Value\n",
        "mode_train_gender = df_train['gender'].mode()[0]\n",
        "mode_train_employment = df_train['employment'].mode()[0]\n",
        "mode_train_credit_card = df_train['credit_card'].mode()[0]\n",
        "df_train['gender'] = df_train['gender'].fillna(mode_train_gender)\n",
        "df_train['employment'] = df_train['employment'].fillna(mode_train_employment)\n",
        "df_train['credit_card'] = df_train['credit_card'].fillna(mode_train_credit_card)\n",
        "df_train.isnull().sum()"
      ],
      "execution_count": 6,
      "outputs": [
        {
          "output_type": "execute_result",
          "data": {
            "text/plain": [
              "customer_id     0\n",
              "customer_bod    0\n",
              "gender          0\n",
              "phone_flag      0\n",
              "student         0\n",
              "employment      0\n",
              "credit_card     0\n",
              "balance         0\n",
              "income          0\n",
              "tenure          0\n",
              "default         0\n",
              "dtype: int64"
            ]
          },
          "metadata": {},
          "execution_count": 6
        }
      ]
    },
    {
      "cell_type": "code",
      "metadata": {
        "colab": {
          "base_uri": "https://localhost:8080/"
        },
        "id": "wuwMP30bWemQ",
        "outputId": "72461216-7d32-479d-d9c9-3bca78efcc43"
      },
      "source": [
        "mode_test_gender = df_test['gender'].mode()[0]\n",
        "mode_test_employment = df_test['employment'].mode()[0]\n",
        "mode_test_credit_card = df_test['credit_card'].mode()[0]\n",
        "df_test['gender'] = df_test['gender'].fillna(mode_test_gender)\n",
        "df_test['employment'] = df_test['employment'].fillna(mode_test_employment)\n",
        "df_test['credit_card'] = df_test['credit_card'].fillna(mode_test_credit_card)\n",
        "df_test = df_test.dropna(axis=0)\n",
        "df_test.isnull().sum()"
      ],
      "execution_count": 7,
      "outputs": [
        {
          "output_type": "execute_result",
          "data": {
            "text/plain": [
              "customer_id     0\n",
              "customer_bod    0\n",
              "gender          0\n",
              "phone_flag      0\n",
              "student         0\n",
              "employment      0\n",
              "credit_card     0\n",
              "balance         0\n",
              "income          0\n",
              "tenure          0\n",
              "dtype: int64"
            ]
          },
          "metadata": {},
          "execution_count": 7
        }
      ]
    },
    {
      "cell_type": "code",
      "metadata": {
        "colab": {
          "base_uri": "https://localhost:8080/",
          "height": 206
        },
        "id": "jPlL3K2QN2QR",
        "outputId": "44b15b80-ef11-471d-d222-021481241d85"
      },
      "source": [
        "#change customer_bod to age\n",
        "df_train['customer_bod'] = pd.to_datetime(df_train['customer_bod'])\n",
        "today = pd.to_datetime('today')\n",
        "df_train['customer_bod'] = today.year - df_train['customer_bod'].dt.year\n",
        "df_train = df_train.rename(columns={'customer_bod': 'age'})\n",
        "df_train.head()"
      ],
      "execution_count": 8,
      "outputs": [
        {
          "output_type": "execute_result",
          "data": {
            "text/html": [
              "<div>\n",
              "<style scoped>\n",
              "    .dataframe tbody tr th:only-of-type {\n",
              "        vertical-align: middle;\n",
              "    }\n",
              "\n",
              "    .dataframe tbody tr th {\n",
              "        vertical-align: top;\n",
              "    }\n",
              "\n",
              "    .dataframe thead th {\n",
              "        text-align: right;\n",
              "    }\n",
              "</style>\n",
              "<table border=\"1\" class=\"dataframe\">\n",
              "  <thead>\n",
              "    <tr style=\"text-align: right;\">\n",
              "      <th></th>\n",
              "      <th>customer_id</th>\n",
              "      <th>age</th>\n",
              "      <th>gender</th>\n",
              "      <th>phone_flag</th>\n",
              "      <th>student</th>\n",
              "      <th>employment</th>\n",
              "      <th>credit_card</th>\n",
              "      <th>balance</th>\n",
              "      <th>income</th>\n",
              "      <th>tenure</th>\n",
              "      <th>default</th>\n",
              "    </tr>\n",
              "  </thead>\n",
              "  <tbody>\n",
              "    <tr>\n",
              "      <th>0</th>\n",
              "      <td>8300</td>\n",
              "      <td>28</td>\n",
              "      <td>Female</td>\n",
              "      <td>1.0</td>\n",
              "      <td>No</td>\n",
              "      <td>Self Employed</td>\n",
              "      <td>1.0</td>\n",
              "      <td>87104.12</td>\n",
              "      <td>5015120.75</td>\n",
              "      <td>4yrs 4mon</td>\n",
              "      <td>0</td>\n",
              "    </tr>\n",
              "    <tr>\n",
              "      <th>1</th>\n",
              "      <td>672</td>\n",
              "      <td>14</td>\n",
              "      <td>Female</td>\n",
              "      <td>1.0</td>\n",
              "      <td>Yes</td>\n",
              "      <td>Salaried</td>\n",
              "      <td>0.0</td>\n",
              "      <td>89236.34</td>\n",
              "      <td>2266076.58</td>\n",
              "      <td>4yrs 1mon</td>\n",
              "      <td>0</td>\n",
              "    </tr>\n",
              "    <tr>\n",
              "      <th>2</th>\n",
              "      <td>5670</td>\n",
              "      <td>21</td>\n",
              "      <td>Female</td>\n",
              "      <td>1.0</td>\n",
              "      <td>Yes</td>\n",
              "      <td>Salaried</td>\n",
              "      <td>0.0</td>\n",
              "      <td>171553.12</td>\n",
              "      <td>1779347.34</td>\n",
              "      <td>0yrs 9mon</td>\n",
              "      <td>0</td>\n",
              "    </tr>\n",
              "    <tr>\n",
              "      <th>3</th>\n",
              "      <td>2975</td>\n",
              "      <td>22</td>\n",
              "      <td>Female</td>\n",
              "      <td>1.0</td>\n",
              "      <td>Yes</td>\n",
              "      <td>Salaried</td>\n",
              "      <td>0.0</td>\n",
              "      <td>85979.04</td>\n",
              "      <td>2014246.24</td>\n",
              "      <td>1yrs 8mon</td>\n",
              "      <td>0</td>\n",
              "    </tr>\n",
              "    <tr>\n",
              "      <th>4</th>\n",
              "      <td>3883</td>\n",
              "      <td>44</td>\n",
              "      <td>Male</td>\n",
              "      <td>1.0</td>\n",
              "      <td>No</td>\n",
              "      <td>Salaried</td>\n",
              "      <td>0.0</td>\n",
              "      <td>48874.77</td>\n",
              "      <td>5445148.31</td>\n",
              "      <td>0yrs 10mon</td>\n",
              "      <td>0</td>\n",
              "    </tr>\n",
              "  </tbody>\n",
              "</table>\n",
              "</div>"
            ],
            "text/plain": [
              "   customer_id  age  gender  ...      income      tenure default\n",
              "0         8300   28  Female  ...  5015120.75   4yrs 4mon       0\n",
              "1          672   14  Female  ...  2266076.58   4yrs 1mon       0\n",
              "2         5670   21  Female  ...  1779347.34   0yrs 9mon       0\n",
              "3         2975   22  Female  ...  2014246.24   1yrs 8mon       0\n",
              "4         3883   44    Male  ...  5445148.31  0yrs 10mon       0\n",
              "\n",
              "[5 rows x 11 columns]"
            ]
          },
          "metadata": {},
          "execution_count": 8
        }
      ]
    },
    {
      "cell_type": "code",
      "metadata": {
        "colab": {
          "base_uri": "https://localhost:8080/",
          "height": 206
        },
        "id": "z7AMiYdRWk0Z",
        "outputId": "82a47b5b-689e-4b2b-e753-c5bbdb7c1143"
      },
      "source": [
        "df_test['customer_bod'] = pd.to_datetime(df_test['customer_bod'])\n",
        "today = pd.to_datetime('today')\n",
        "df_test['customer_bod'] = today.year - df_test['customer_bod'].dt.year\n",
        "df_test = df_test.rename(columns={'customer_bod': 'age'})\n",
        "df_test.head()"
      ],
      "execution_count": 9,
      "outputs": [
        {
          "output_type": "execute_result",
          "data": {
            "text/html": [
              "<div>\n",
              "<style scoped>\n",
              "    .dataframe tbody tr th:only-of-type {\n",
              "        vertical-align: middle;\n",
              "    }\n",
              "\n",
              "    .dataframe tbody tr th {\n",
              "        vertical-align: top;\n",
              "    }\n",
              "\n",
              "    .dataframe thead th {\n",
              "        text-align: right;\n",
              "    }\n",
              "</style>\n",
              "<table border=\"1\" class=\"dataframe\">\n",
              "  <thead>\n",
              "    <tr style=\"text-align: right;\">\n",
              "      <th></th>\n",
              "      <th>customer_id</th>\n",
              "      <th>age</th>\n",
              "      <th>gender</th>\n",
              "      <th>phone_flag</th>\n",
              "      <th>student</th>\n",
              "      <th>employment</th>\n",
              "      <th>credit_card</th>\n",
              "      <th>balance</th>\n",
              "      <th>income</th>\n",
              "      <th>tenure</th>\n",
              "    </tr>\n",
              "  </thead>\n",
              "  <tbody>\n",
              "    <tr>\n",
              "      <th>0</th>\n",
              "      <td>9365</td>\n",
              "      <td>22</td>\n",
              "      <td>Male</td>\n",
              "      <td>0.0</td>\n",
              "      <td>No</td>\n",
              "      <td>Salaried</td>\n",
              "      <td>1.0</td>\n",
              "      <td>0.00</td>\n",
              "      <td>4430744.15</td>\n",
              "      <td>0yrs 0mon</td>\n",
              "    </tr>\n",
              "    <tr>\n",
              "      <th>1</th>\n",
              "      <td>999</td>\n",
              "      <td>34</td>\n",
              "      <td>Female</td>\n",
              "      <td>0.0</td>\n",
              "      <td>No</td>\n",
              "      <td>Salaried</td>\n",
              "      <td>0.0</td>\n",
              "      <td>67431.40</td>\n",
              "      <td>3743149.53</td>\n",
              "      <td>0yrs 7mon</td>\n",
              "    </tr>\n",
              "    <tr>\n",
              "      <th>2</th>\n",
              "      <td>2835</td>\n",
              "      <td>21</td>\n",
              "      <td>Male</td>\n",
              "      <td>1.0</td>\n",
              "      <td>No</td>\n",
              "      <td>Salaried</td>\n",
              "      <td>1.0</td>\n",
              "      <td>69128.28</td>\n",
              "      <td>4821579.61</td>\n",
              "      <td>1yrs 11mon</td>\n",
              "    </tr>\n",
              "    <tr>\n",
              "      <th>3</th>\n",
              "      <td>5821</td>\n",
              "      <td>27</td>\n",
              "      <td>Male</td>\n",
              "      <td>1.0</td>\n",
              "      <td>No</td>\n",
              "      <td>Salaried</td>\n",
              "      <td>0.0</td>\n",
              "      <td>151051.78</td>\n",
              "      <td>3159764.69</td>\n",
              "      <td>0yrs 10mon</td>\n",
              "    </tr>\n",
              "    <tr>\n",
              "      <th>4</th>\n",
              "      <td>2330</td>\n",
              "      <td>25</td>\n",
              "      <td>Male</td>\n",
              "      <td>0.0</td>\n",
              "      <td>No</td>\n",
              "      <td>Self Employed</td>\n",
              "      <td>0.0</td>\n",
              "      <td>92727.85</td>\n",
              "      <td>5659353.20</td>\n",
              "      <td>1yrs 3mon</td>\n",
              "    </tr>\n",
              "  </tbody>\n",
              "</table>\n",
              "</div>"
            ],
            "text/plain": [
              "   customer_id  age  gender  ...    balance      income      tenure\n",
              "0         9365   22    Male  ...       0.00  4430744.15   0yrs 0mon\n",
              "1          999   34  Female  ...   67431.40  3743149.53   0yrs 7mon\n",
              "2         2835   21    Male  ...   69128.28  4821579.61  1yrs 11mon\n",
              "3         5821   27    Male  ...  151051.78  3159764.69  0yrs 10mon\n",
              "4         2330   25    Male  ...   92727.85  5659353.20   1yrs 3mon\n",
              "\n",
              "[5 rows x 10 columns]"
            ]
          },
          "metadata": {},
          "execution_count": 9
        }
      ]
    },
    {
      "cell_type": "code",
      "metadata": {
        "colab": {
          "base_uri": "https://localhost:8080/",
          "height": 206
        },
        "id": "7yvYIkG2RA_N",
        "outputId": "1edaf6ef-aa0f-4394-d1f0-808183249309"
      },
      "source": [
        "# Create dummy variables, contain 0 or 1 as a result of one hot encoding depending on whether value is True\n",
        "df_train['gender'] = df_train['gender'].map({'Female':0, 'Male':1})\n",
        "df_train['student'] = df_train['student'].map({'Yes':0, 'No':1})\n",
        "df_train['employment'] = df_train['employment'].map({'Self Employed':0, 'Salaried':1})\n",
        "df_train.head()"
      ],
      "execution_count": 10,
      "outputs": [
        {
          "output_type": "execute_result",
          "data": {
            "text/html": [
              "<div>\n",
              "<style scoped>\n",
              "    .dataframe tbody tr th:only-of-type {\n",
              "        vertical-align: middle;\n",
              "    }\n",
              "\n",
              "    .dataframe tbody tr th {\n",
              "        vertical-align: top;\n",
              "    }\n",
              "\n",
              "    .dataframe thead th {\n",
              "        text-align: right;\n",
              "    }\n",
              "</style>\n",
              "<table border=\"1\" class=\"dataframe\">\n",
              "  <thead>\n",
              "    <tr style=\"text-align: right;\">\n",
              "      <th></th>\n",
              "      <th>customer_id</th>\n",
              "      <th>age</th>\n",
              "      <th>gender</th>\n",
              "      <th>phone_flag</th>\n",
              "      <th>student</th>\n",
              "      <th>employment</th>\n",
              "      <th>credit_card</th>\n",
              "      <th>balance</th>\n",
              "      <th>income</th>\n",
              "      <th>tenure</th>\n",
              "      <th>default</th>\n",
              "    </tr>\n",
              "  </thead>\n",
              "  <tbody>\n",
              "    <tr>\n",
              "      <th>0</th>\n",
              "      <td>8300</td>\n",
              "      <td>28</td>\n",
              "      <td>0</td>\n",
              "      <td>1.0</td>\n",
              "      <td>1</td>\n",
              "      <td>0</td>\n",
              "      <td>1.0</td>\n",
              "      <td>87104.12</td>\n",
              "      <td>5015120.75</td>\n",
              "      <td>4yrs 4mon</td>\n",
              "      <td>0</td>\n",
              "    </tr>\n",
              "    <tr>\n",
              "      <th>1</th>\n",
              "      <td>672</td>\n",
              "      <td>14</td>\n",
              "      <td>0</td>\n",
              "      <td>1.0</td>\n",
              "      <td>0</td>\n",
              "      <td>1</td>\n",
              "      <td>0.0</td>\n",
              "      <td>89236.34</td>\n",
              "      <td>2266076.58</td>\n",
              "      <td>4yrs 1mon</td>\n",
              "      <td>0</td>\n",
              "    </tr>\n",
              "    <tr>\n",
              "      <th>2</th>\n",
              "      <td>5670</td>\n",
              "      <td>21</td>\n",
              "      <td>0</td>\n",
              "      <td>1.0</td>\n",
              "      <td>0</td>\n",
              "      <td>1</td>\n",
              "      <td>0.0</td>\n",
              "      <td>171553.12</td>\n",
              "      <td>1779347.34</td>\n",
              "      <td>0yrs 9mon</td>\n",
              "      <td>0</td>\n",
              "    </tr>\n",
              "    <tr>\n",
              "      <th>3</th>\n",
              "      <td>2975</td>\n",
              "      <td>22</td>\n",
              "      <td>0</td>\n",
              "      <td>1.0</td>\n",
              "      <td>0</td>\n",
              "      <td>1</td>\n",
              "      <td>0.0</td>\n",
              "      <td>85979.04</td>\n",
              "      <td>2014246.24</td>\n",
              "      <td>1yrs 8mon</td>\n",
              "      <td>0</td>\n",
              "    </tr>\n",
              "    <tr>\n",
              "      <th>4</th>\n",
              "      <td>3883</td>\n",
              "      <td>44</td>\n",
              "      <td>1</td>\n",
              "      <td>1.0</td>\n",
              "      <td>1</td>\n",
              "      <td>1</td>\n",
              "      <td>0.0</td>\n",
              "      <td>48874.77</td>\n",
              "      <td>5445148.31</td>\n",
              "      <td>0yrs 10mon</td>\n",
              "      <td>0</td>\n",
              "    </tr>\n",
              "  </tbody>\n",
              "</table>\n",
              "</div>"
            ],
            "text/plain": [
              "   customer_id  age  gender  ...      income      tenure  default\n",
              "0         8300   28       0  ...  5015120.75   4yrs 4mon        0\n",
              "1          672   14       0  ...  2266076.58   4yrs 1mon        0\n",
              "2         5670   21       0  ...  1779347.34   0yrs 9mon        0\n",
              "3         2975   22       0  ...  2014246.24   1yrs 8mon        0\n",
              "4         3883   44       1  ...  5445148.31  0yrs 10mon        0\n",
              "\n",
              "[5 rows x 11 columns]"
            ]
          },
          "metadata": {},
          "execution_count": 10
        }
      ]
    },
    {
      "cell_type": "code",
      "metadata": {
        "colab": {
          "base_uri": "https://localhost:8080/",
          "height": 206
        },
        "id": "CYWOu4ayWySZ",
        "outputId": "d5c6db9a-1f7f-43fd-8b36-5aeda80f5b63"
      },
      "source": [
        "df_test['gender'] = df_test['gender'].map({'Female':0, 'Male':1})\n",
        "df_test['student'] = df_test['student'].map({'Yes':0, 'No':1})\n",
        "df_test['employment'] = df_test['employment'].map({'Self Employed':0, 'Salaried':1})\n",
        "df_test.head()"
      ],
      "execution_count": 11,
      "outputs": [
        {
          "output_type": "execute_result",
          "data": {
            "text/html": [
              "<div>\n",
              "<style scoped>\n",
              "    .dataframe tbody tr th:only-of-type {\n",
              "        vertical-align: middle;\n",
              "    }\n",
              "\n",
              "    .dataframe tbody tr th {\n",
              "        vertical-align: top;\n",
              "    }\n",
              "\n",
              "    .dataframe thead th {\n",
              "        text-align: right;\n",
              "    }\n",
              "</style>\n",
              "<table border=\"1\" class=\"dataframe\">\n",
              "  <thead>\n",
              "    <tr style=\"text-align: right;\">\n",
              "      <th></th>\n",
              "      <th>customer_id</th>\n",
              "      <th>age</th>\n",
              "      <th>gender</th>\n",
              "      <th>phone_flag</th>\n",
              "      <th>student</th>\n",
              "      <th>employment</th>\n",
              "      <th>credit_card</th>\n",
              "      <th>balance</th>\n",
              "      <th>income</th>\n",
              "      <th>tenure</th>\n",
              "    </tr>\n",
              "  </thead>\n",
              "  <tbody>\n",
              "    <tr>\n",
              "      <th>0</th>\n",
              "      <td>9365</td>\n",
              "      <td>22</td>\n",
              "      <td>1</td>\n",
              "      <td>0.0</td>\n",
              "      <td>1</td>\n",
              "      <td>1</td>\n",
              "      <td>1.0</td>\n",
              "      <td>0.00</td>\n",
              "      <td>4430744.15</td>\n",
              "      <td>0yrs 0mon</td>\n",
              "    </tr>\n",
              "    <tr>\n",
              "      <th>1</th>\n",
              "      <td>999</td>\n",
              "      <td>34</td>\n",
              "      <td>0</td>\n",
              "      <td>0.0</td>\n",
              "      <td>1</td>\n",
              "      <td>1</td>\n",
              "      <td>0.0</td>\n",
              "      <td>67431.40</td>\n",
              "      <td>3743149.53</td>\n",
              "      <td>0yrs 7mon</td>\n",
              "    </tr>\n",
              "    <tr>\n",
              "      <th>2</th>\n",
              "      <td>2835</td>\n",
              "      <td>21</td>\n",
              "      <td>1</td>\n",
              "      <td>1.0</td>\n",
              "      <td>1</td>\n",
              "      <td>1</td>\n",
              "      <td>1.0</td>\n",
              "      <td>69128.28</td>\n",
              "      <td>4821579.61</td>\n",
              "      <td>1yrs 11mon</td>\n",
              "    </tr>\n",
              "    <tr>\n",
              "      <th>3</th>\n",
              "      <td>5821</td>\n",
              "      <td>27</td>\n",
              "      <td>1</td>\n",
              "      <td>1.0</td>\n",
              "      <td>1</td>\n",
              "      <td>1</td>\n",
              "      <td>0.0</td>\n",
              "      <td>151051.78</td>\n",
              "      <td>3159764.69</td>\n",
              "      <td>0yrs 10mon</td>\n",
              "    </tr>\n",
              "    <tr>\n",
              "      <th>4</th>\n",
              "      <td>2330</td>\n",
              "      <td>25</td>\n",
              "      <td>1</td>\n",
              "      <td>0.0</td>\n",
              "      <td>1</td>\n",
              "      <td>0</td>\n",
              "      <td>0.0</td>\n",
              "      <td>92727.85</td>\n",
              "      <td>5659353.20</td>\n",
              "      <td>1yrs 3mon</td>\n",
              "    </tr>\n",
              "  </tbody>\n",
              "</table>\n",
              "</div>"
            ],
            "text/plain": [
              "   customer_id  age  gender  ...    balance      income      tenure\n",
              "0         9365   22       1  ...       0.00  4430744.15   0yrs 0mon\n",
              "1          999   34       0  ...   67431.40  3743149.53   0yrs 7mon\n",
              "2         2835   21       1  ...   69128.28  4821579.61  1yrs 11mon\n",
              "3         5821   27       1  ...  151051.78  3159764.69  0yrs 10mon\n",
              "4         2330   25       1  ...   92727.85  5659353.20   1yrs 3mon\n",
              "\n",
              "[5 rows x 10 columns]"
            ]
          },
          "metadata": {},
          "execution_count": 11
        }
      ]
    },
    {
      "cell_type": "code",
      "metadata": {
        "colab": {
          "base_uri": "https://localhost:8080/",
          "height": 206
        },
        "id": "kl_E5LGUOQR3",
        "outputId": "97bad5d1-a1fc-42e6-f985-8ff7c01f2ba8"
      },
      "source": [
        "#calculate tenure in months\n",
        "df_train_= df_train.tenure.str.extractall('(\\d+)').unstack()\n",
        "df_train_.columns = df_train_.columns.droplevel(0)\n",
        "df_train['tenure'] = df_train_.iloc[:,0].astype(int).mul(12) + df_train_.iloc[:,1].astype(int)\n",
        "df_train.head()"
      ],
      "execution_count": 12,
      "outputs": [
        {
          "output_type": "execute_result",
          "data": {
            "text/html": [
              "<div>\n",
              "<style scoped>\n",
              "    .dataframe tbody tr th:only-of-type {\n",
              "        vertical-align: middle;\n",
              "    }\n",
              "\n",
              "    .dataframe tbody tr th {\n",
              "        vertical-align: top;\n",
              "    }\n",
              "\n",
              "    .dataframe thead th {\n",
              "        text-align: right;\n",
              "    }\n",
              "</style>\n",
              "<table border=\"1\" class=\"dataframe\">\n",
              "  <thead>\n",
              "    <tr style=\"text-align: right;\">\n",
              "      <th></th>\n",
              "      <th>customer_id</th>\n",
              "      <th>age</th>\n",
              "      <th>gender</th>\n",
              "      <th>phone_flag</th>\n",
              "      <th>student</th>\n",
              "      <th>employment</th>\n",
              "      <th>credit_card</th>\n",
              "      <th>balance</th>\n",
              "      <th>income</th>\n",
              "      <th>tenure</th>\n",
              "      <th>default</th>\n",
              "    </tr>\n",
              "  </thead>\n",
              "  <tbody>\n",
              "    <tr>\n",
              "      <th>0</th>\n",
              "      <td>8300</td>\n",
              "      <td>28</td>\n",
              "      <td>0</td>\n",
              "      <td>1.0</td>\n",
              "      <td>1</td>\n",
              "      <td>0</td>\n",
              "      <td>1.0</td>\n",
              "      <td>87104.12</td>\n",
              "      <td>5015120.75</td>\n",
              "      <td>52</td>\n",
              "      <td>0</td>\n",
              "    </tr>\n",
              "    <tr>\n",
              "      <th>1</th>\n",
              "      <td>672</td>\n",
              "      <td>14</td>\n",
              "      <td>0</td>\n",
              "      <td>1.0</td>\n",
              "      <td>0</td>\n",
              "      <td>1</td>\n",
              "      <td>0.0</td>\n",
              "      <td>89236.34</td>\n",
              "      <td>2266076.58</td>\n",
              "      <td>49</td>\n",
              "      <td>0</td>\n",
              "    </tr>\n",
              "    <tr>\n",
              "      <th>2</th>\n",
              "      <td>5670</td>\n",
              "      <td>21</td>\n",
              "      <td>0</td>\n",
              "      <td>1.0</td>\n",
              "      <td>0</td>\n",
              "      <td>1</td>\n",
              "      <td>0.0</td>\n",
              "      <td>171553.12</td>\n",
              "      <td>1779347.34</td>\n",
              "      <td>9</td>\n",
              "      <td>0</td>\n",
              "    </tr>\n",
              "    <tr>\n",
              "      <th>3</th>\n",
              "      <td>2975</td>\n",
              "      <td>22</td>\n",
              "      <td>0</td>\n",
              "      <td>1.0</td>\n",
              "      <td>0</td>\n",
              "      <td>1</td>\n",
              "      <td>0.0</td>\n",
              "      <td>85979.04</td>\n",
              "      <td>2014246.24</td>\n",
              "      <td>20</td>\n",
              "      <td>0</td>\n",
              "    </tr>\n",
              "    <tr>\n",
              "      <th>4</th>\n",
              "      <td>3883</td>\n",
              "      <td>44</td>\n",
              "      <td>1</td>\n",
              "      <td>1.0</td>\n",
              "      <td>1</td>\n",
              "      <td>1</td>\n",
              "      <td>0.0</td>\n",
              "      <td>48874.77</td>\n",
              "      <td>5445148.31</td>\n",
              "      <td>10</td>\n",
              "      <td>0</td>\n",
              "    </tr>\n",
              "  </tbody>\n",
              "</table>\n",
              "</div>"
            ],
            "text/plain": [
              "   customer_id  age  gender  phone_flag  ...    balance      income  tenure  default\n",
              "0         8300   28       0         1.0  ...   87104.12  5015120.75      52        0\n",
              "1          672   14       0         1.0  ...   89236.34  2266076.58      49        0\n",
              "2         5670   21       0         1.0  ...  171553.12  1779347.34       9        0\n",
              "3         2975   22       0         1.0  ...   85979.04  2014246.24      20        0\n",
              "4         3883   44       1         1.0  ...   48874.77  5445148.31      10        0\n",
              "\n",
              "[5 rows x 11 columns]"
            ]
          },
          "metadata": {},
          "execution_count": 12
        }
      ]
    },
    {
      "cell_type": "code",
      "metadata": {
        "colab": {
          "base_uri": "https://localhost:8080/",
          "height": 206
        },
        "id": "9Q2t5JKfW8G-",
        "outputId": "e059d350-b7d0-41aa-eeb2-19c6ab5b64e0"
      },
      "source": [
        "df_test_= df_test.tenure.str.extractall('(\\d+)').unstack()\n",
        "df_test_.columns = df_test_.columns.droplevel(0)\n",
        "df_test['tenure'] = df_test_.iloc[:,0].astype(int).mul(12) + df_test_.iloc[:,1].astype(int)\n",
        "df_test.head()"
      ],
      "execution_count": 13,
      "outputs": [
        {
          "output_type": "execute_result",
          "data": {
            "text/html": [
              "<div>\n",
              "<style scoped>\n",
              "    .dataframe tbody tr th:only-of-type {\n",
              "        vertical-align: middle;\n",
              "    }\n",
              "\n",
              "    .dataframe tbody tr th {\n",
              "        vertical-align: top;\n",
              "    }\n",
              "\n",
              "    .dataframe thead th {\n",
              "        text-align: right;\n",
              "    }\n",
              "</style>\n",
              "<table border=\"1\" class=\"dataframe\">\n",
              "  <thead>\n",
              "    <tr style=\"text-align: right;\">\n",
              "      <th></th>\n",
              "      <th>customer_id</th>\n",
              "      <th>age</th>\n",
              "      <th>gender</th>\n",
              "      <th>phone_flag</th>\n",
              "      <th>student</th>\n",
              "      <th>employment</th>\n",
              "      <th>credit_card</th>\n",
              "      <th>balance</th>\n",
              "      <th>income</th>\n",
              "      <th>tenure</th>\n",
              "    </tr>\n",
              "  </thead>\n",
              "  <tbody>\n",
              "    <tr>\n",
              "      <th>0</th>\n",
              "      <td>9365</td>\n",
              "      <td>22</td>\n",
              "      <td>1</td>\n",
              "      <td>0.0</td>\n",
              "      <td>1</td>\n",
              "      <td>1</td>\n",
              "      <td>1.0</td>\n",
              "      <td>0.00</td>\n",
              "      <td>4430744.15</td>\n",
              "      <td>0</td>\n",
              "    </tr>\n",
              "    <tr>\n",
              "      <th>1</th>\n",
              "      <td>999</td>\n",
              "      <td>34</td>\n",
              "      <td>0</td>\n",
              "      <td>0.0</td>\n",
              "      <td>1</td>\n",
              "      <td>1</td>\n",
              "      <td>0.0</td>\n",
              "      <td>67431.40</td>\n",
              "      <td>3743149.53</td>\n",
              "      <td>7</td>\n",
              "    </tr>\n",
              "    <tr>\n",
              "      <th>2</th>\n",
              "      <td>2835</td>\n",
              "      <td>21</td>\n",
              "      <td>1</td>\n",
              "      <td>1.0</td>\n",
              "      <td>1</td>\n",
              "      <td>1</td>\n",
              "      <td>1.0</td>\n",
              "      <td>69128.28</td>\n",
              "      <td>4821579.61</td>\n",
              "      <td>23</td>\n",
              "    </tr>\n",
              "    <tr>\n",
              "      <th>3</th>\n",
              "      <td>5821</td>\n",
              "      <td>27</td>\n",
              "      <td>1</td>\n",
              "      <td>1.0</td>\n",
              "      <td>1</td>\n",
              "      <td>1</td>\n",
              "      <td>0.0</td>\n",
              "      <td>151051.78</td>\n",
              "      <td>3159764.69</td>\n",
              "      <td>10</td>\n",
              "    </tr>\n",
              "    <tr>\n",
              "      <th>4</th>\n",
              "      <td>2330</td>\n",
              "      <td>25</td>\n",
              "      <td>1</td>\n",
              "      <td>0.0</td>\n",
              "      <td>1</td>\n",
              "      <td>0</td>\n",
              "      <td>0.0</td>\n",
              "      <td>92727.85</td>\n",
              "      <td>5659353.20</td>\n",
              "      <td>15</td>\n",
              "    </tr>\n",
              "  </tbody>\n",
              "</table>\n",
              "</div>"
            ],
            "text/plain": [
              "   customer_id  age  gender  ...    balance      income  tenure\n",
              "0         9365   22       1  ...       0.00  4430744.15       0\n",
              "1          999   34       0  ...   67431.40  3743149.53       7\n",
              "2         2835   21       1  ...   69128.28  4821579.61      23\n",
              "3         5821   27       1  ...  151051.78  3159764.69      10\n",
              "4         2330   25       1  ...   92727.85  5659353.20      15\n",
              "\n",
              "[5 rows x 10 columns]"
            ]
          },
          "metadata": {},
          "execution_count": 13
        }
      ]
    },
    {
      "cell_type": "markdown",
      "metadata": {
        "id": "vY35CWtlPaPf"
      },
      "source": [
        "Data visualizatoin"
      ]
    },
    {
      "cell_type": "code",
      "metadata": {
        "colab": {
          "base_uri": "https://localhost:8080/",
          "height": 666
        },
        "id": "XGO9Nnb4boOU",
        "outputId": "e7ea62c9-92cb-4223-b1a4-4f2ffa197578"
      },
      "source": [
        "pearsoncorr = df_train.corr(method='pearson')\n",
        "fig, ax = plt.subplots(figsize = (7,5))\n",
        "fig.set_size_inches(10,10)\n",
        "sns.heatmap(pearsoncorr, \n",
        "            xticklabels=pearsoncorr.columns,\n",
        "            yticklabels=pearsoncorr.columns,\n",
        "            cmap='RdBu_r',\n",
        "            annot=True,\n",
        "            linewidth=0.5)"
      ],
      "execution_count": 14,
      "outputs": [
        {
          "output_type": "execute_result",
          "data": {
            "text/plain": [
              "<matplotlib.axes._subplots.AxesSubplot at 0x7fa73958a950>"
            ]
          },
          "metadata": {},
          "execution_count": 14
        },
        {
          "output_type": "display_data",
          "data": {
            "image/png": "[encoded data removed]",
            "text/plain": [
              "<Figure size 720x720 with 2 Axes>"
            ]
          },
          "metadata": {
            "needs_background": "light"
          }
        }
      ]
    },
    {
      "cell_type": "code",
      "metadata": {
        "id": "jRPKuGArlMD1",
        "outputId": "71a7cc66-b1ab-41b5-c935-0da7c15047df",
        "colab": {
          "base_uri": "https://localhost:8080/"
        }
      },
      "source": [
        "## Correlation Values of all the Features\n",
        "## Top 10 Values\n",
        "print (pearsoncorr['default'].sort_values(ascending=False)[:10], '\\n')\n",
        "\n",
        "## Last 5 Values\n",
        "print (pearsoncorr['default'].sort_values(ascending=False)[-5:])"
      ],
      "execution_count": 15,
      "outputs": [
        {
          "output_type": "stream",
          "name": "stdout",
          "text": [
            "default        1.000000\n",
            "balance        0.464955\n",
            "credit_card    0.066617\n",
            "tenure         0.042820\n",
            "gender         0.005470\n",
            "phone_flag     0.004842\n",
            "customer_id   -0.014393\n",
            "income        -0.027114\n",
            "student       -0.053355\n",
            "age           -0.094180\n",
            "Name: default, dtype: float64 \n",
            "\n",
            "customer_id   -0.014393\n",
            "income        -0.027114\n",
            "student       -0.053355\n",
            "age           -0.094180\n",
            "employment    -0.216726\n",
            "Name: default, dtype: float64\n"
          ]
        }
      ]
    },
    {
      "cell_type": "code",
      "metadata": {
        "id": "5xoba9tNUU4a"
      },
      "source": [
        "df_cek = df_train[['gender','credit_card','balance','income','tenure','default']]\n",
        "df_cek_test = df_test[['gender','credit_card','balance','income','tenure']]"
      ],
      "execution_count": 16,
      "outputs": []
    },
    {
      "cell_type": "code",
      "metadata": {
        "id": "5eCzMKYyWYtD"
      },
      "source": [
        "y_trains = df_cek['default']\n",
        "X_trains = df_cek.drop(columns='default')"
      ],
      "execution_count": 17,
      "outputs": []
    },
    {
      "cell_type": "code",
      "metadata": {
        "id": "sZJleKv1XWRR"
      },
      "source": [
        "# split data\n",
        "X_train, X_test, y_train, y_test = train_test_split(X_trains, y_trains, test_size=0.33, random_state=42)"
      ],
      "execution_count": 18,
      "outputs": []
    },
    {
      "cell_type": "markdown",
      "metadata": {
        "id": "Ljw1myNYXc1F"
      },
      "source": [
        "Creating models with data train"
      ]
    },
    {
      "cell_type": "markdown",
      "metadata": {
        "id": "rk3sWs-sXext"
      },
      "source": [
        "1. k-NN"
      ]
    },
    {
      "cell_type": "code",
      "metadata": {
        "colab": {
          "base_uri": "https://localhost:8080/"
        },
        "id": "ApKokhcTXfcy",
        "outputId": "b86ea09e-369d-477f-bf9c-b01b250197de"
      },
      "source": [
        "from sklearn.neighbors import KNeighborsClassifier\n",
        "from sklearn.metrics import accuracy_score\n",
        "neigh = KNeighborsClassifier(n_neighbors=3)\n",
        "neigh.fit(X_train, y_train)"
      ],
      "execution_count": 19,
      "outputs": [
        {
          "output_type": "execute_result",
          "data": {
            "text/plain": [
              "KNeighborsClassifier(algorithm='auto', leaf_size=30, metric='minkowski',\n",
              "                     metric_params=None, n_jobs=None, n_neighbors=3, p=2,\n",
              "                     weights='uniform')"
            ]
          },
          "metadata": {},
          "execution_count": 19
        }
      ]
    },
    {
      "cell_type": "code",
      "metadata": {
        "colab": {
          "base_uri": "https://localhost:8080/"
        },
        "id": "NBPp45GdXlU8",
        "outputId": "0bd6193a-9bdd-4001-bff2-a539d01c7f87"
      },
      "source": [
        "y_pred = neigh.predict(X_test)\n",
        "print(classification_report(y_test, y_pred))\n",
        "print('accuracy score: ',accuracy_score(y_test,y_pred))\n",
        "\n",
        "fpr, tpr, thresholds = metrics.roc_curve(y_test, y_pred)\n",
        "print('auc score: ',metrics.auc(fpr, tpr))"
      ],
      "execution_count": 20,
      "outputs": [
        {
          "output_type": "stream",
          "name": "stdout",
          "text": [
            "              precision    recall  f1-score   support\n",
            "\n",
            "           0       0.95      0.98      0.96      1138\n",
            "           1       0.49      0.30      0.37        81\n",
            "\n",
            "    accuracy                           0.93      1219\n",
            "   macro avg       0.72      0.64      0.67      1219\n",
            "weighted avg       0.92      0.93      0.92      1219\n",
            "\n",
            "accuracy score:  0.9327317473338802\n",
            "auc score:  0.6371639653713468\n"
          ]
        }
      ]
    },
    {
      "cell_type": "markdown",
      "metadata": {
        "id": "ODnuhn32Xssw"
      },
      "source": [
        "2. SVM"
      ]
    },
    {
      "cell_type": "code",
      "metadata": {
        "colab": {
          "base_uri": "https://localhost:8080/"
        },
        "id": "PokA3dCRXtXe",
        "outputId": "d2f43e9c-009f-41f2-cd42-49d5269aaecf"
      },
      "source": [
        "from sklearn import svm\n",
        "\n",
        "clf = svm.SVC(gamma=0.001)\n",
        "clf.fit(X_train, y_train)"
      ],
      "execution_count": 21,
      "outputs": [
        {
          "output_type": "execute_result",
          "data": {
            "text/plain": [
              "SVC(C=1.0, break_ties=False, cache_size=200, class_weight=None, coef0=0.0,\n",
              "    decision_function_shape='ovr', degree=3, gamma=0.001, kernel='rbf',\n",
              "    max_iter=-1, probability=False, random_state=None, shrinking=True,\n",
              "    tol=0.001, verbose=False)"
            ]
          },
          "metadata": {},
          "execution_count": 21
        }
      ]
    },
    {
      "cell_type": "code",
      "metadata": {
        "colab": {
          "base_uri": "https://localhost:8080/"
        },
        "id": "gZ-f7PpKXvbr",
        "outputId": "3eb9535a-1073-4551-a143-6d41c7548963"
      },
      "source": [
        "y_pred = clf.predict(X_test)\n",
        "print(classification_report(y_test, y_pred))\n",
        "print('accuracy score: ',accuracy_score(y_test,y_pred))\n",
        "\n",
        "fpr, tpr, thresholds = metrics.roc_curve(y_test, y_pred)\n",
        "print('auc score: ',metrics.auc(fpr, tpr))"
      ],
      "execution_count": 22,
      "outputs": [
        {
          "output_type": "stream",
          "name": "stdout",
          "text": [
            "              precision    recall  f1-score   support\n",
            "\n",
            "           0       0.93      1.00      0.97      1138\n",
            "           1       0.00      0.00      0.00        81\n",
            "\n",
            "    accuracy                           0.93      1219\n",
            "   macro avg       0.47      0.50      0.48      1219\n",
            "weighted avg       0.87      0.93      0.90      1219\n",
            "\n",
            "accuracy score:  0.933552091878589\n",
            "auc score:  0.5\n"
          ]
        },
        {
          "output_type": "stream",
          "name": "stderr",
          "text": [
            "/usr/local/lib/python3.7/dist-packages/sklearn/metrics/_classification.py:1272: UndefinedMetricWarning: Precision and F-score are ill-defined and being set to 0.0 in labels with no predicted samples. Use `zero_division` parameter to control this behavior.\n",
            "  _warn_prf(average, modifier, msg_start, len(result))\n"
          ]
        }
      ]
    },
    {
      "cell_type": "markdown",
      "metadata": {
        "id": "ePJ9sDOVX6SZ"
      },
      "source": [
        "3. Decision Tree"
      ]
    },
    {
      "cell_type": "code",
      "metadata": {
        "colab": {
          "base_uri": "https://localhost:8080/"
        },
        "id": "ZT_xes4vX61X",
        "outputId": "7bd6a819-7e6b-46c5-eaea-1a0771352b62"
      },
      "source": [
        "from sklearn.tree import DecisionTreeClassifier\n",
        "clf = DecisionTreeClassifier(random_state=0)\n",
        "clf.fit(X_train, y_train)"
      ],
      "execution_count": 23,
      "outputs": [
        {
          "output_type": "execute_result",
          "data": {
            "text/plain": [
              "DecisionTreeClassifier(ccp_alpha=0.0, class_weight=None, criterion='gini',\n",
              "                       max_depth=None, max_features=None, max_leaf_nodes=None,\n",
              "                       min_impurity_decrease=0.0, min_impurity_split=None,\n",
              "                       min_samples_leaf=1, min_samples_split=2,\n",
              "                       min_weight_fraction_leaf=0.0, presort='deprecated',\n",
              "                       random_state=0, splitter='best')"
            ]
          },
          "metadata": {},
          "execution_count": 23
        }
      ]
    },
    {
      "cell_type": "code",
      "metadata": {
        "colab": {
          "base_uri": "https://localhost:8080/"
        },
        "id": "BAbOW_hFX-p3",
        "outputId": "a12180c5-fa9c-4567-fb69-d575e907e901"
      },
      "source": [
        "y_pred = clf.predict(X_test)\n",
        "print(classification_report(y_test, y_pred))\n",
        "print('accuracy score: ',accuracy_score(y_test,y_pred))\n",
        "\n",
        "fpr, tpr, thresholds = metrics.roc_curve(y_test, y_pred)\n",
        "print('auc score: ',metrics.auc(fpr, tpr))"
      ],
      "execution_count": 24,
      "outputs": [
        {
          "output_type": "stream",
          "name": "stdout",
          "text": [
            "              precision    recall  f1-score   support\n",
            "\n",
            "           0       0.96      0.96      0.96      1138\n",
            "           1       0.45      0.47      0.46        81\n",
            "\n",
            "    accuracy                           0.93      1219\n",
            "   macro avg       0.70      0.71      0.71      1219\n",
            "weighted avg       0.93      0.93      0.93      1219\n",
            "\n",
            "accuracy score:  0.92616899097621\n",
            "auc score:  0.7139176376141813\n"
          ]
        }
      ]
    },
    {
      "cell_type": "markdown",
      "metadata": {
        "id": "ZpHOVFwnYKzI"
      },
      "source": [
        "4. Multinomioal Naive Bayes"
      ]
    },
    {
      "cell_type": "code",
      "metadata": {
        "colab": {
          "base_uri": "https://localhost:8080/"
        },
        "id": "xdYD5hnTYLjI",
        "outputId": "b6c6a9bd-635c-413f-be6d-f1d0af587e50"
      },
      "source": [
        "from sklearn.naive_bayes import MultinomialNB\n",
        "\n",
        "naive_bayes = MultinomialNB()\n",
        "naive_bayes.fit(X_train, y_train)"
      ],
      "execution_count": 25,
      "outputs": [
        {
          "output_type": "execute_result",
          "data": {
            "text/plain": [
              "MultinomialNB(alpha=1.0, class_prior=None, fit_prior=True)"
            ]
          },
          "metadata": {},
          "execution_count": 25
        }
      ]
    },
    {
      "cell_type": "code",
      "metadata": {
        "colab": {
          "base_uri": "https://localhost:8080/"
        },
        "id": "1ZHeqLFzYNkQ",
        "outputId": "6b24d080-5d78-4661-de5c-672dd3d7d1cb"
      },
      "source": [
        "y_pred = naive_bayes.predict(X_test)\n",
        "print(classification_report(y_test, y_pred))\n",
        "print('accuracy score: ',accuracy_score(y_test,y_pred))\n",
        "\n",
        "fpr, tpr, thresholds = metrics.roc_curve(y_test, y_pred)\n",
        "print('auc score: ',metrics.auc(fpr, tpr))"
      ],
      "execution_count": 26,
      "outputs": [
        {
          "output_type": "stream",
          "name": "stdout",
          "text": [
            "              precision    recall  f1-score   support\n",
            "\n",
            "           0       0.97      0.71      0.82      1138\n",
            "           1       0.16      0.74      0.26        81\n",
            "\n",
            "    accuracy                           0.72      1219\n",
            "   macro avg       0.57      0.73      0.54      1219\n",
            "weighted avg       0.92      0.72      0.79      1219\n",
            "\n",
            "accuracy score:  0.7153404429860541\n",
            "auc score:  0.7271366269608799\n"
          ]
        }
      ]
    },
    {
      "cell_type": "markdown",
      "metadata": {
        "id": "ykJ1iWO4YVoI"
      },
      "source": [
        "5. Logistic Regression"
      ]
    },
    {
      "cell_type": "code",
      "metadata": {
        "colab": {
          "base_uri": "https://localhost:8080/"
        },
        "id": "Q3fipmu8YWrg",
        "outputId": "428a2513-2a19-4aea-e160-05952cba071f"
      },
      "source": [
        "from sklearn.linear_model import LogisticRegression\n",
        "clf = LogisticRegression(random_state=0, solver='lbfgs',multi_class='multinomial')\n",
        "clf.fit(X_train, y_train)"
      ],
      "execution_count": 29,
      "outputs": [
        {
          "output_type": "execute_result",
          "data": {
            "text/plain": [
              "LogisticRegression(C=1.0, class_weight=None, dual=False, fit_intercept=True,\n",
              "                   intercept_scaling=1, l1_ratio=None, max_iter=100,\n",
              "                   multi_class='multinomial', n_jobs=None, penalty='l2',\n",
              "                   random_state=0, solver='lbfgs', tol=0.0001, verbose=0,\n",
              "                   warm_start=False)"
            ]
          },
          "metadata": {},
          "execution_count": 29
        }
      ]
    },
    {
      "cell_type": "code",
      "metadata": {
        "colab": {
          "base_uri": "https://localhost:8080/"
        },
        "id": "KXaOX6U-YY6y",
        "outputId": "ed7d1fe8-9cb7-44cd-d851-8efd3db463d6"
      },
      "source": [
        "y_pred = clf.predict(X_test)\n",
        "print(classification_report(y_test, y_pred))\n",
        "print('accuracy score: ',accuracy_score(y_test,y_pred))\n",
        "\n",
        "fpr, tpr, thresholds = metrics.roc_curve(y_test, y_pred)\n",
        "print('auc score: ',metrics.auc(fpr, tpr))"
      ],
      "execution_count": 30,
      "outputs": [
        {
          "output_type": "stream",
          "name": "stdout",
          "text": [
            "              precision    recall  f1-score   support\n",
            "\n",
            "           0       0.94      0.99      0.97      1138\n",
            "           1       0.46      0.07      0.13        81\n",
            "\n",
            "    accuracy                           0.93      1219\n",
            "   macro avg       0.70      0.53      0.55      1219\n",
            "weighted avg       0.91      0.93      0.91      1219\n",
            "\n",
            "accuracy score:  0.9327317473338802\n",
            "auc score:  0.5339614658595326\n"
          ]
        }
      ]
    },
    {
      "cell_type": "markdown",
      "metadata": {
        "id": "fUCfztbCYiDK"
      },
      "source": [
        "6. Random Forest"
      ]
    },
    {
      "cell_type": "code",
      "metadata": {
        "colab": {
          "base_uri": "https://localhost:8080/"
        },
        "id": "3C7n6Ui5YinH",
        "outputId": "b2aaa81b-81b1-4478-dfb4-72528c96a5e5"
      },
      "source": [
        "from sklearn.ensemble import RandomForestClassifier\n",
        "\n",
        "clf = RandomForestClassifier(n_estimators=10, max_depth=None, min_samples_split=2, random_state=0)\n",
        "clf.fit(X_train, y_train)"
      ],
      "execution_count": 31,
      "outputs": [
        {
          "output_type": "execute_result",
          "data": {
            "text/plain": [
              "RandomForestClassifier(bootstrap=True, ccp_alpha=0.0, class_weight=None,\n",
              "                       criterion='gini', max_depth=None, max_features='auto',\n",
              "                       max_leaf_nodes=None, max_samples=None,\n",
              "                       min_impurity_decrease=0.0, min_impurity_split=None,\n",
              "                       min_samples_leaf=1, min_samples_split=2,\n",
              "                       min_weight_fraction_leaf=0.0, n_estimators=10,\n",
              "                       n_jobs=None, oob_score=False, random_state=0, verbose=0,\n",
              "                       warm_start=False)"
            ]
          },
          "metadata": {},
          "execution_count": 31
        }
      ]
    },
    {
      "cell_type": "code",
      "metadata": {
        "colab": {
          "base_uri": "https://localhost:8080/"
        },
        "id": "eWsOXbwrYkcE",
        "outputId": "5770d442-2967-487f-cd44-507cee6298f7"
      },
      "source": [
        "y_pred = clf.predict(X_test)\n",
        "print(classification_report(y_test, y_pred))\n",
        "print('accuracy score: ',accuracy_score(y_test,y_pred))\n",
        "\n",
        "fpr, tpr, thresholds = metrics.roc_curve(y_test, y_pred)\n",
        "print('auc score: ',metrics.auc(fpr, tpr))"
      ],
      "execution_count": 32,
      "outputs": [
        {
          "output_type": "stream",
          "name": "stdout",
          "text": [
            "              precision    recall  f1-score   support\n",
            "\n",
            "           0       0.96      0.99      0.97      1138\n",
            "           1       0.76      0.36      0.49        81\n",
            "\n",
            "    accuracy                           0.95      1219\n",
            "   macro avg       0.86      0.68      0.73      1219\n",
            "weighted avg       0.94      0.95      0.94      1219\n",
            "\n",
            "accuracy score:  0.9499589827727646\n",
            "auc score:  0.6750580398793639\n"
          ]
        }
      ]
    },
    {
      "cell_type": "markdown",
      "metadata": {
        "id": "DyM2CODkYrFS"
      },
      "source": [
        "7. Extra Trees"
      ]
    },
    {
      "cell_type": "code",
      "metadata": {
        "colab": {
          "base_uri": "https://localhost:8080/"
        },
        "id": "uPqtexcIYrr0",
        "outputId": "ec3a404b-8d65-454d-f316-7c5189414b74"
      },
      "source": [
        "from sklearn.ensemble import ExtraTreesClassifier\n",
        "\n",
        "clf = ExtraTreesClassifier(n_estimators=10, max_depth=None, min_samples_split=2, random_state=0)\n",
        "clf.fit(X_train, y_train)"
      ],
      "execution_count": 33,
      "outputs": [
        {
          "output_type": "execute_result",
          "data": {
            "text/plain": [
              "ExtraTreesClassifier(bootstrap=False, ccp_alpha=0.0, class_weight=None,\n",
              "                     criterion='gini', max_depth=None, max_features='auto',\n",
              "                     max_leaf_nodes=None, max_samples=None,\n",
              "                     min_impurity_decrease=0.0, min_impurity_split=None,\n",
              "                     min_samples_leaf=1, min_samples_split=2,\n",
              "                     min_weight_fraction_leaf=0.0, n_estimators=10, n_jobs=None,\n",
              "                     oob_score=False, random_state=0, verbose=0,\n",
              "                     warm_start=False)"
            ]
          },
          "metadata": {},
          "execution_count": 33
        }
      ]
    },
    {
      "cell_type": "code",
      "metadata": {
        "colab": {
          "base_uri": "https://localhost:8080/"
        },
        "id": "y3c9kaNPYt1_",
        "outputId": "be984c24-9618-47f0-f9c2-97cdbdd278c0"
      },
      "source": [
        "y_pred = clf.predict(X_test)\n",
        "print(classification_report(y_test, y_pred))\n",
        "print('accuracy score: ',accuracy_score(y_test,y_pred))\n",
        "\n",
        "fpr, tpr, thresholds = metrics.roc_curve(y_test, y_pred)\n",
        "print('auc score: ',metrics.auc(fpr, tpr))"
      ],
      "execution_count": 34,
      "outputs": [
        {
          "output_type": "stream",
          "name": "stdout",
          "text": [
            "              precision    recall  f1-score   support\n",
            "\n",
            "           0       0.95      0.99      0.97      1138\n",
            "           1       0.63      0.33      0.44        81\n",
            "\n",
            "    accuracy                           0.94      1219\n",
            "   macro avg       0.79      0.66      0.70      1219\n",
            "weighted avg       0.93      0.94      0.93      1219\n",
            "\n",
            "accuracy score:  0.9425758818703855\n",
            "auc score:  0.6596367896895137\n"
          ]
        }
      ]
    },
    {
      "cell_type": "markdown",
      "metadata": {
        "id": "MVoVIKpUZ96Y"
      },
      "source": [
        "Dikarenakan hasil paling bagus dari compare model adalah Decision Tree dengan auc 0.713, maka model tersebut akan dilakukan tuning paramter pada parameter max_depth"
      ]
    },
    {
      "cell_type": "code",
      "metadata": {
        "colab": {
          "base_uri": "https://localhost:8080/"
        },
        "id": "L8DgFrmIafHy",
        "outputId": "1de155ab-c67f-4692-bf10-a1de3b4418ab"
      },
      "source": [
        "for i in [4,8,12]:\n",
        "    clf = DecisionTreeClassifier(max_depth=i, random_state=0)\n",
        "    clf.fit(X_train, y_train)\n",
        "    y_pred = clf.predict(X_test)\n",
        "    print(classification_report(y_test, y_pred))\n",
        "    print('accuracy score dengan max_depth = ',i,' : ',accuracy_score(y_test,y_pred))\n",
        "\n",
        "    fpr, tpr, thresholds = metrics.roc_curve(y_test, y_pred)\n",
        "    print('auc score dengan max_depth = ',i,' : ',metrics.auc(fpr, tpr))"
      ],
      "execution_count": 53,
      "outputs": [
        {
          "output_type": "stream",
          "name": "stdout",
          "text": [
            "              precision    recall  f1-score   support\n",
            "\n",
            "           0       0.96      1.00      0.98      1138\n",
            "           1       0.88      0.36      0.51        81\n",
            "\n",
            "    accuracy                           0.95      1219\n",
            "   macro avg       0.92      0.68      0.74      1219\n",
            "weighted avg       0.95      0.95      0.94      1219\n",
            "\n",
            "accuracy score dengan max_depth =  4  :  0.9540607054963085\n",
            "auc score dengan max_depth =  4  :  0.6772548764347242\n",
            "              precision    recall  f1-score   support\n",
            "\n",
            "           0       0.96      0.98      0.97      1138\n",
            "           1       0.61      0.46      0.52        81\n",
            "\n",
            "    accuracy                           0.94      1219\n",
            "   macro avg       0.78      0.72      0.75      1219\n",
            "weighted avg       0.94      0.94      0.94      1219\n",
            "\n",
            "accuracy score dengan max_depth =  8  :  0.9442165709598032\n",
            "auc score dengan max_depth =  8  :  0.7178502462626657\n",
            "              precision    recall  f1-score   support\n",
            "\n",
            "           0       0.96      0.96      0.96      1138\n",
            "           1       0.45      0.48      0.47        81\n",
            "\n",
            "    accuracy                           0.93      1219\n",
            "   macro avg       0.71      0.72      0.71      1219\n",
            "weighted avg       0.93      0.93      0.93      1219\n",
            "\n",
            "accuracy score dengan max_depth =  12  :  0.9269893355209188\n",
            "auc score dengan max_depth =  12  :  0.720090477120354\n"
          ]
        }
      ]
    },
    {
      "cell_type": "markdown",
      "metadata": {
        "id": "eIYIJH9pcJgA"
      },
      "source": [
        "Dengan dilakukan tuning pada max_depth, maka didapat max_depth 12 dengan auc 0.72"
      ]
    },
    {
      "cell_type": "markdown",
      "metadata": {
        "id": "9-rKku4vi0Nr"
      },
      "source": [
        "Hasil klasifikasi"
      ]
    },
    {
      "cell_type": "markdown",
      "metadata": {
        "id": "UDT13Iwxi34E"
      },
      "source": [
        "Dari hasil uji evaluasi, disimpulkan bahawa metode Decision Tree memiliki auc score paling tinggi, yaitu sebanyak 0.768. Maka dari itu, dilakukan pemodelan untuk memprediksi datatest"
      ]
    },
    {
      "cell_type": "code",
      "metadata": {
        "id": "OoVIl1Xaj-9z"
      },
      "source": [
        "from sklearn.ensemble import RandomForestClassifier\n",
        "\n",
        "clf = RandomForestClassifier(n_estimators=15, max_depth=None, min_samples_split=15, random_state=0)\n",
        "clf.fit(X_trains, y_trains)"
      ],
      "execution_count": null,
      "outputs": []
    },
    {
      "cell_type": "code",
      "metadata": {
        "id": "4TACYz1YkAuc"
      },
      "source": [
        "y_pred = clf.predict(df_cek_test)"
      ],
      "execution_count": null,
      "outputs": []
    },
    {
      "cell_type": "code",
      "metadata": {
        "id": "4komZNn2kD4z"
      },
      "source": [
        "df_test['default'] = pd.Series(y_pred)"
      ],
      "execution_count": null,
      "outputs": []
    },
    {
      "cell_type": "code",
      "metadata": {
        "id": "J5NVfAQjkHw_"
      },
      "source": [
        "df_test['default'].value_counts()"
      ],
      "execution_count": null,
      "outputs": []
    },
    {
      "cell_type": "code",
      "metadata": {
        "id": "kme6OXgckLnc"
      },
      "source": [
        "df_test.head()"
      ],
      "execution_count": null,
      "outputs": []
    },
    {
      "cell_type": "code",
      "metadata": {
        "id": "iq0SwEv3kgFf"
      },
      "source": [
        "df_test_final =  df_test[['customer_id','default']]"
      ],
      "execution_count": null,
      "outputs": []
    },
    {
      "cell_type": "code",
      "metadata": {
        "id": "bfyO-bkYkpGn"
      },
      "source": [
        "df_test_final.head()"
      ],
      "execution_count": null,
      "outputs": []
    },
    {
      "cell_type": "code",
      "metadata": {
        "id": "2GT6wrOgkUZv"
      },
      "source": [
        "df_test_final.to_csv(\"Hasil Testing Risk Creedit.csv\")"
      ],
      "execution_count": null,
      "outputs": []
    },
    {
      "cell_type": "code",
      "metadata": {
        "id": "rttMEThhvUEW"
      },
      "source": [
        ""
      ],
      "execution_count": null,
      "outputs": []
    }
  ]
}